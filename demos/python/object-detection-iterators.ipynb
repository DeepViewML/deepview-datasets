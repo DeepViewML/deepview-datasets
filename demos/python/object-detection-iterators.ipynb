{
 "cells": [
  {
   "cell_type": "code",
   "execution_count": 1,
   "metadata": {},
   "outputs": [],
   "source": [
    "import sys\n",
    "sys.path.insert(0, \"../../python\")\n",
    "import time"
   ]
  },
  {
   "cell_type": "code",
   "execution_count": 2,
   "metadata": {},
   "outputs": [
    {
     "name": "stderr",
     "output_type": "stream",
     "text": [
      "2024-01-27 18:26:35.836007: I tensorflow/core/util/port.cc:110] oneDNN custom operations are on. You may see slightly different numerical results due to floating-point round-off errors from different computation orders. To turn them off, set the environment variable `TF_ENABLE_ONEDNN_OPTS=0`.\n",
      "2024-01-27 18:26:35.860260: I tensorflow/core/platform/cpu_feature_guard.cc:182] This TensorFlow binary is optimized to use available CPU instructions in performance-critical operations.\n",
      "To enable the following instructions: AVX2 AVX512F AVX512_VNNI FMA, in other operations, rebuild TensorFlow with the appropriate compiler flags.\n",
      "2024-01-27 18:26:36.233776: W tensorflow/compiler/tf2tensorrt/utils/py_utils.cc:38] TF-TRT Warning: Could not find TensorRT\n"
     ]
    }
   ],
   "source": [
    "from deepview.nn.datasets.iterators import ObjectDetectionIterator, TFObjectDetectionIterator\n",
    "from deepview.nn.datasets.readers import TFPolarsDetectionReader"
   ]
  },
  {
   "cell_type": "code",
   "execution_count": 3,
   "metadata": {},
   "outputs": [],
   "source": [
    "reader = TFPolarsDetectionReader(\n",
    "    inputs = \"playingcards-polars/train/images_*.arrow\",\n",
    "    annotations = \"playingcards-polars/train/boxes_*.arrow\"\n",
    ")"
   ]
  },
  {
   "cell_type": "code",
   "execution_count": 6,
   "metadata": {},
   "outputs": [],
   "source": [
    "# Loading dataset cache into memory\n",
    "iterator = TFObjectDetectionIterator(\n",
    "    reader=reader,\n",
    "    shape=(320, 320, 3),\n",
    "    batch_size=10\n",
    ")"
   ]
  },
  {
   "cell_type": "code",
   "execution_count": 4,
   "metadata": {},
   "outputs": [],
   "source": [
    "# Loading dataset cache into a file\n",
    "iterator = TFObjectDetectionIterator(\n",
    "    reader=reader,\n",
    "    shape=(320, 320, 3),\n",
    "    batch_size=10,\n",
    "    cache=\"playingcards-polars/tf-cache\"\n",
    ")"
   ]
  },
  {
   "cell_type": "code",
   "execution_count": 9,
   "metadata": {},
   "outputs": [],
   "source": [
    "# Shuffle dataset\n",
    "iterator = TFObjectDetectionIterator(\n",
    "    reader=reader,\n",
    "    shape=(320, 320, 3),\n",
    "    batch_size=10,\n",
    "    shuffle=True,\n",
    "    cache=\"playingcards-polars/tf-cache\"\n",
    ")"
   ]
  },
  {
   "cell_type": "code",
   "execution_count": 11,
   "metadata": {},
   "outputs": [
    {
     "name": "stdout",
     "output_type": "stream",
     "text": [
      "measuring augmentation speed...\n",
      "18882.885 FPS\n"
     ]
    }
   ],
   "source": [
    "print(\"measuring augmentation speed...\")\n",
    "num_iters = len(iterator)\n",
    "\n",
    "st = time.time()\n",
    "for i, instance in enumerate(iterator.iterator()):\n",
    "    images = instance['image']\n",
    "    boxes = instance['boxes']\n",
    "    # print(images.shape, boxes.shape)\n",
    "ed = time.time()\n",
    "print(f\"{1 / ((ed - st) / num_iters) * 9:.3f} FPS\")   "
   ]
  }
 ],
 "metadata": {
  "kernelspec": {
   "display_name": ".venv",
   "language": "python",
   "name": "python3"
  },
  "language_info": {
   "codemirror_mode": {
    "name": "ipython",
    "version": 3
   },
   "file_extension": ".py",
   "mimetype": "text/x-python",
   "name": "python",
   "nbconvert_exporter": "python",
   "pygments_lexer": "ipython3",
   "version": "3.8.18"
  }
 },
 "nbformat": 4,
 "nbformat_minor": 2
}
