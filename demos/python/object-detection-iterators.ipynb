{
 "cells": [
  {
   "cell_type": "code",
   "execution_count": null,
   "metadata": {},
   "outputs": [],
   "source": [
    "import sys\n",
    "sys.path.insert(0, \"/home/reinier/development/deepview-datasets/python\")\n",
    "from deepview.datasets.iterators import TFObjectDetectionIterator\n",
    "from deepview.datasets.readers import TFPolarsDetectionReader"
   ]
  },
  {
   "cell_type": "code",
   "execution_count": null,
   "metadata": {},
   "outputs": [],
   "source": [
    "import yaml\n",
    "with open(\"playingcards/dataset.yaml\", 'r') as fp:\n",
    "    true_order_classes = yaml.safe_load(fp).get('classes')"
   ]
  },
  {
   "cell_type": "code",
   "execution_count": null,
   "metadata": {},
   "outputs": [],
   "source": [
    "reader = TFPolarsDetectionReader(\n",
    "    inputs = \"playingcards-polars/validate/images_*.arrow\",\n",
    "    annotations = \"playingcards-polars/validate/boxes_*.arrow\",\n",
    "    classes=[\"ace\", \"nine\"] \n",
    ")"
   ]
  },
  {
   "cell_type": "code",
   "execution_count": null,
   "metadata": {},
   "outputs": [],
   "source": [
    "# Shuffle dataset\n",
    "iterator = TFObjectDetectionIterator(\n",
    "    reader=reader,\n",
    "    shape=(320, 320, 3),\n",
    "    shuffle=True\n",
    ")"
   ]
  },
  {
   "cell_type": "code",
   "execution_count": null,
   "metadata": {},
   "outputs": [],
   "source": [
    "%%timeit\n",
    "\n",
    "num_iters = len(iterator)\n",
    "\n",
    "for i, instance in enumerate(iterator.iterator()):\n",
    "    images = instance[0]\n",
    "    boxes = instance[1]\n"
   ]
  },
  {
   "cell_type": "code",
   "execution_count": null,
   "metadata": {},
   "outputs": [],
   "source": [
    "import matplotlib.pyplot as plt\n",
    "import numpy as np\n",
    "import cv2\n",
    "\n",
    "colors = np.array([\n",
    "    [180, 0, 0], # ace red\n",
    "    [0, 166, 76], # nine green\n",
    "    [178, 179, 0],\n",
    "    [2, 1, 181],\n",
    "    [127, 96, 166],\n",
    "    [3, 152, 133],\n",
    "    [121, 121, 121],\n",
    "    [76, 0, 0],\n",
    "    [240, 0, 0],\n",
    "    [107, 123, 61],\n",
    "    [245, 185, 0],\n",
    "    [94, 78, 127],\n",
    "    [202, 2, 202],\n",
    "    [105, 153, 199],\n",
    "    [252, 155, 209],\n",
    "    [53, 76, 32],\n",
    "    [146, 76, 17],\n",
    "    [0, 219, 99],\n",
    "    [142, 206, 70],\n",
    "    [2, 71, 128]    \n",
    "], np.uint8)"
   ]
  },
  {
   "cell_type": "code",
   "execution_count": null,
   "metadata": {},
   "outputs": [],
   "source": [
    "for i, instance in enumerate(iterator.iterator()):\n",
    "    image = instance[0].numpy().astype(np.uint8)\n",
    "    boxes = instance[1].numpy()\n",
    "    \n",
    "    H, W, _ = image.shape\n",
    "\n",
    "    for xc, yc, w, h, l in boxes:\n",
    "        x1 = int((xc - w * 0.5) * W)\n",
    "        x2 = int((xc + w * 0.5) * W)\n",
    "        \n",
    "        y1 = int((yc - h *0.5) * H)\n",
    "        y2 = int((yc + h *0.5) * H)\n",
    "        color = colors[int(l)].tolist()\n",
    "            \n",
    "        cv2.rectangle(image, (x1, y1), (x2, y2), color, 5)\n",
    "    plt.imshow(image)\n",
    "    break\n",
    "    "
   ]
  },
  {
   "cell_type": "code",
   "execution_count": null,
   "metadata": {},
   "outputs": [],
   "source": [
    "classes = [\n",
    "    'ace',\n",
    "    'king',\n",
    "    'eight',\n",
    "    'jack',\n",
    "    'four',\n",
    "    'three',\n",
    "    'ten',\n",
    "    'queen',\n",
    "    'six',\n",
    "    'five',\n",
    "    'nine',\n",
    "    'two',\n",
    "    'seven',  \n",
    "]\n",
    "print(classes)\n",
    "for i, instance in enumerate(iterator.iterator()):\n",
    "    images = instance[0].numpy().astype(np.uint8)\n",
    "    boxes = instance[1]\n",
    "    \n",
    "    for b in boxes:\n",
    "        print(b, classes[int(b[-1])])\n",
    "    plt.imshow(images)\n",
    "    break"
   ]
  }
 ],
 "metadata": {
  "kernelspec": {
   "display_name": ".venv",
   "language": "python",
   "name": "python3"
  },
  "language_info": {
   "codemirror_mode": {
    "name": "ipython",
    "version": 3
   },
   "file_extension": ".py",
   "mimetype": "text/x-python",
   "name": "python",
   "nbconvert_exporter": "python",
   "pygments_lexer": "ipython3",
   "version": "3.8.18"
  }
 },
 "nbformat": 4,
 "nbformat_minor": 2
}
