{
 "cells": [
  {
   "cell_type": "markdown",
   "metadata": {},
   "source": [
    "# Darknet to Polars dataset\n",
    "\n",
    "Before start datasets transformations we need to install dvc by calling \n",
    "\n",
    "```pip install dvc```"
   ]
  },
  {
   "cell_type": "code",
   "execution_count": null,
   "metadata": {},
   "outputs": [],
   "source": [
    "! pip install dvc"
   ]
  },
  {
   "cell_type": "markdown",
   "metadata": {},
   "source": [
    "## Download Dataset\n",
    "\n",
    "To download the dataset we are going to clone playingcards dataset from github.\n",
    "This dataset is stored in darknet format and has two different partitions, `train` and `validate`"
   ]
  },
  {
   "cell_type": "code",
   "execution_count": null,
   "metadata": {},
   "outputs": [],
   "source": [
    "! git clone https://github.com/DeepViewML/playingcards.git "
   ]
  },
  {
   "cell_type": "markdown",
   "metadata": {},
   "source": [
    "Once the repository is in our PC we need to invoke dvc to download dataset files from S3 bucket.\n",
    "It could take few minutes based on you internet connection"
   ]
  },
  {
   "cell_type": "code",
   "execution_count": null,
   "metadata": {},
   "outputs": [],
   "source": [
    "! cd playingcards && dvc pull"
   ]
  },
  {
   "cell_type": "code",
   "execution_count": null,
   "metadata": {},
   "outputs": [],
   "source": [
    "# Count number of training images\n",
    "\n",
    "! echo \"Training Instances:\"\n",
    "\n",
    "\n",
    "! echo \"   - images:\" `ls -l playingcards/dataset/images/train | wc -l`\n",
    "! echo \"   - annotations:\" `ls -l playingcards/dataset/labels/train | wc -l`\n",
    "\n",
    "! echo \"Validation Instances:\"\n",
    "\n",
    "! echo \"   - images:\" `ls -l playingcards/dataset/images/validate | wc -l`\n",
    "! echo \"   - annotations:\" `ls -l playingcards/dataset/labels/validate | wc -l`\n",
    "\n",
    "! echo \"Quantization Samples:\"\n",
    "\n",
    "! echo \"   - images:\" `ls -l playingcards/dataset/images/quant | wc -l`\n"
   ]
  },
  {
   "cell_type": "code",
   "execution_count": null,
   "metadata": {},
   "outputs": [],
   "source": [
    "! pip install deepview-datasets"
   ]
  },
  {
   "cell_type": "code",
   "execution_count": null,
   "metadata": {},
   "outputs": [],
   "source": [
    "import yaml\n",
    "from deepview.nn.datasets.readers import DarknetDetectionReader\n",
    "from deepview.nn.datasets.writers.polars import PolarsDetectionWriter"
   ]
  },
  {
   "cell_type": "code",
   "execution_count": null,
   "metadata": {},
   "outputs": [],
   "source": [
    "# Reading Classes from dataset\n",
    "\n",
    "\n",
    "with open(\"playingcards/dataset.yaml\", 'r') as fp:\n",
    "    true_order_classes = yaml.safe_load(fp).get('classes')\n",
    "\n",
    "# Defines the reader class that loads dataset images and annotations from \n",
    "# disk and return the iterator for safe reading\n",
    "\n",
    "train_reader = DarknetDetectionReader(\n",
    "    images=\"playingcards/dataset/images/train\",\n",
    "    annotations=\"playingcards/dataset/labels/train\",\n",
    "    classes=true_order_classes\n",
    ")\n",
    "\n",
    "val_reader = DarknetDetectionReader(\n",
    "    images=\"playingcards/dataset/images/validate\",\n",
    "    annotations=\"playingcards/dataset/labels/validate\",\n",
    "    classes=true_order_classes\n",
    ")"
   ]
  },
  {
   "cell_type": "code",
   "execution_count": null,
   "metadata": {},
   "outputs": [],
   "source": [
    "# Defines the writer instance that loads the Darknet reader object and writes the instances\n",
    "# to hard drive in arrow format\n",
    "\n",
    "train_writer = PolarsDetectionWriter(\n",
    "    reader=train_reader,\n",
    "    output=\"playingcards-polars/train\",\n",
    "    override=True,\n",
    "    max_file_size=2.0 # 2GB file chunk\n",
    ")\n",
    "\n",
    "val_writer = PolarsDetectionWriter(\n",
    "    reader=val_reader,\n",
    "    output=\"playingcards-polars/validate\",\n",
    "    override=True,\n",
    "    max_file_size=2.0 # 2GB file chunk\n",
    ")\n",
    "\n",
    "train_writer.export()\n",
    "val_writer.export()\n"
   ]
  },
  {
   "cell_type": "code",
   "execution_count": null,
   "metadata": {},
   "outputs": [],
   "source": [
    "# dataset is going to be saved into playingcards-polars folder\n",
    "\n",
    "! tree -a playingcards-polars/train\n",
    "! tree -a playingcards-polars/validate"
   ]
  },
  {
   "cell_type": "markdown",
   "metadata": {},
   "source": [
    "## Reading Dataset\n",
    "\n",
    "To read the dataset we need to use the polars reader from example below."
   ]
  },
  {
   "cell_type": "code",
   "execution_count": null,
   "metadata": {},
   "outputs": [],
   "source": [
    "from deepview.datasets.readers import PolarsDetectionReader"
   ]
  },
  {
   "cell_type": "code",
   "execution_count": null,
   "metadata": {},
   "outputs": [],
   "source": [
    "with open(\"playingcards/dataset.yaml\", 'r') as fp:\n",
    "    true_order_classes = yaml.safe_load(fp).get('classes')\n",
    "    \n",
    "plreader = PolarsDetectionReader(\n",
    "    inputs=\"playingcards-polars/train/images_*.arrow\",\n",
    "    annotations = \"playingcards-polars/train/boxes_*.arrow\",\n",
    "    classes=['nine', 'ace'] # it could be any order of the classes within true_order_class list. Also could be a subset\n",
    ")\n",
    "plreader.classes"
   ]
  },
  {
   "cell_type": "code",
   "execution_count": null,
   "metadata": {},
   "outputs": [],
   "source": [
    "# visualize samples.\n",
    "# To visualize samples make sure opencv-python and matplotlib are installed.\n",
    "import matplotlib.pyplot as plt\n",
    "import numpy as np\n",
    "import cv2\n",
    "import polars as pl\n",
    "\n",
    "colors = np.array([\n",
    "    [180, 0, 0],\n",
    "    [0, 166, 76],\n",
    "    [178, 179, 0],\n",
    "    [2, 1, 181],\n",
    "    [127, 96, 166],\n",
    "    [3, 152, 133],\n",
    "    [121, 121, 121],\n",
    "    [76, 0, 0],\n",
    "    [240, 0, 0],\n",
    "    [107, 123, 61],\n",
    "    [245, 185, 0],\n",
    "    [94, 78, 127],\n",
    "    [202, 2, 202],\n",
    "    [105, 153, 199],\n",
    "    [252, 155, 209],\n",
    "    [53, 76, 32],\n",
    "    [146, 76, 17],\n",
    "    [0, 219, 99],\n",
    "    [142, 206, 70],\n",
    "    [2, 71, 128]    \n",
    "], np.uint8)"
   ]
  },
  {
   "cell_type": "code",
   "execution_count": null,
   "metadata": {},
   "outputs": [],
   "source": [
    "image, boxes = next(plreader)\n",
    "H, W, _ = image.shape\n",
    "\n",
    "for xc, yc, w, h, l in boxes:\n",
    "    x1 = int((xc - w * 0.5) * W)\n",
    "    x2 = int((xc + w * 0.5) * W)\n",
    "    \n",
    "    y1 = int((yc - h *0.5) * H)\n",
    "    y2 = int((yc + h *0.5) * H)\n",
    "    color = colors[int(l)].tolist()\n",
    "        \n",
    "    cv2.rectangle(image, (x1, y1), (x2, y2), color, 5)\n",
    "\n",
    "plt.imshow(image)\n"
   ]
  }
 ],
 "metadata": {
  "kernelspec": {
   "display_name": ".venv",
   "language": "python",
   "name": "python3"
  },
  "language_info": {
   "codemirror_mode": {
    "name": "ipython",
    "version": 3
   },
   "file_extension": ".py",
   "mimetype": "text/x-python",
   "name": "python",
   "nbconvert_exporter": "python",
   "pygments_lexer": "ipython3",
   "version": "3.8.18"
  }
 },
 "nbformat": 4,
 "nbformat_minor": 2
}
