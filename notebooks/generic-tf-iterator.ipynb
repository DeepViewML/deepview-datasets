{
 "cells": [
  {
   "cell_type": "code",
   "execution_count": null,
   "metadata": {},
   "outputs": [],
   "source": [
    "import os\n",
    "os.environ['CUDA_VISIBLE_DEVICES'] = \"-1\""
   ]
  },
  {
   "cell_type": "code",
   "execution_count": null,
   "metadata": {},
   "outputs": [],
   "source": [
    "from deepview.datasets.iterators import TFObjectDetectionIterator"
   ]
  },
  {
   "cell_type": "code",
   "execution_count": null,
   "metadata": {},
   "outputs": [],
   "source": [
    "# Loading dataset from ModelPack 2.x\n",
    "config_file = \"playingcards/dataset.yaml\" # either of ModelPack yaml file or Yolov7: https://github.com/WongKinYiu/yolov7/blob/main/data/coco.yaml\n",
    "handler = TFObjectDetectionIterator(from_config=config_file, shape=(320, 320, 3))\n",
    "handler.classes"
   ]
  },
  {
   "cell_type": "code",
   "execution_count": null,
   "metadata": {},
   "outputs": [],
   "source": [
    "train_iter = handler.get_train_iterator()\n",
    "val_iter = handler.get_val_iterator()"
   ]
  },
  {
   "cell_type": "code",
   "execution_count": null,
   "metadata": {},
   "outputs": [],
   "source": [
    "print(\"Num training samples: \", len(train_iter))\n",
    "print(\"Num validation samples: \", len(val_iter))\n",
    "\n",
    "for img, boxes in train_iter:\n",
    "    print(img.shape, boxes.shape)\n",
    "    break\n",
    "\n",
    "for img, boxes in val_iter:\n",
    "    print(img.shape, boxes.shape)\n",
    "    break\n"
   ]
  },
  {
   "cell_type": "code",
   "execution_count": null,
   "metadata": {},
   "outputs": [],
   "source": [
    "# Run this cell if you want to visualize images\n",
    "! pip install opencv-python\n",
    "! pip install matplotlib"
   ]
  },
  {
   "cell_type": "code",
   "execution_count": null,
   "metadata": {},
   "outputs": [],
   "source": [
    "\n",
    "import matplotlib.pyplot as plt\n",
    "import numpy as np\n",
    "import cv2\n",
    "\n",
    "image = img.numpy().astype(np.uint8)\n",
    "for xc, yc, w, h, _ in boxes:\n",
    "    x1 = int((xc - w * 0.5) * 320)\n",
    "    x2 = int((xc + w * 0.5) * 320)\n",
    "\n",
    "    y1 = int((yc - h * 0.5) * 320)\n",
    "    y2 = int((yc + h * 0.5) * 320)\n",
    "    cv2.rectangle(image, (x1, y1), (x2, y2), (255, 0, 0), 3)\n",
    "\n",
    "plt.imshow(image)\n"
   ]
  }
 ],
 "metadata": {
  "kernelspec": {
   "display_name": ".venv",
   "language": "python",
   "name": "python3"
  },
  "language_info": {
   "codemirror_mode": {
    "name": "ipython",
    "version": 3
   },
   "file_extension": ".py",
   "mimetype": "text/x-python",
   "name": "python",
   "nbconvert_exporter": "python",
   "pygments_lexer": "ipython3",
   "version": "3.11.7"
  }
 },
 "nbformat": 4,
 "nbformat_minor": 2
}
