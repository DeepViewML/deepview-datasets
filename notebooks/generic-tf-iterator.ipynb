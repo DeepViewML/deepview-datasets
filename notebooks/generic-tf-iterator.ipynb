{
 "cells": [
  {
   "cell_type": "code",
   "execution_count": 1,
   "metadata": {},
   "outputs": [],
   "source": [
    "import os\n",
    "os.environ['CUDA_VISIBLE_DEVICES'] = \"-1\""
   ]
  },
  {
   "cell_type": "code",
   "execution_count": 2,
   "metadata": {},
   "outputs": [
    {
     "name": "stdout",
     "output_type": "stream",
     "text": [
      "WARNING:tensorflow:From c:\\Users\\reinier\\Personal\\development\\au-zone\\deepview-datasets\\.venv\\Lib\\site-packages\\keras\\src\\losses.py:2976: The name tf.losses.sparse_softmax_cross_entropy is deprecated. Please use tf.compat.v1.losses.sparse_softmax_cross_entropy instead.\n",
      "\n"
     ]
    }
   ],
   "source": [
    "from deepview.datasets.iterators import TFObjectDetectionIterator"
   ]
  },
  {
   "cell_type": "code",
   "execution_count": 3,
   "metadata": {},
   "outputs": [
    {
     "data": {
      "text/plain": [
       "['ace',\n",
       " 'nine',\n",
       " 'six',\n",
       " 'four',\n",
       " 'eight',\n",
       " 'queen',\n",
       " 'seven',\n",
       " 'king',\n",
       " 'ten',\n",
       " 'jack',\n",
       " 'five',\n",
       " 'two',\n",
       " 'three']"
      ]
     },
     "execution_count": 3,
     "metadata": {},
     "output_type": "execute_result"
    }
   ],
   "source": [
    "# Loading dataset from ModelPack 2.x\n",
    "config_file = \"path to a yaml file representing a dataset used for training ModelPack 2.x\"\n",
    "handler = TFObjectDetectionIterator(from_config=config_file, shape=(320, 320, 3))\n",
    "handler.classes"
   ]
  },
  {
   "cell_type": "code",
   "execution_count": 4,
   "metadata": {},
   "outputs": [],
   "source": [
    "train_iter = handler.get_train_iterator().iterator()\n",
    "val_iter = handler.get_val_iterator().iterator()"
   ]
  },
  {
   "cell_type": "code",
   "execution_count": 5,
   "metadata": {},
   "outputs": [
    {
     "name": "stdout",
     "output_type": "stream",
     "text": [
      "Num training samples:  1328\n",
      "Num validation samples:  148\n",
      "(320, 320, 3) (1, 5)\n",
      "(320, 320, 3) (4, 5)\n"
     ]
    }
   ],
   "source": [
    "print(\"Num training samples: \", len(train_iter))\n",
    "print(\"Num validation samples: \", len(val_iter))\n",
    "\n",
    "for img, boxes in train_iter:\n",
    "    print(img.shape, boxes.shape)\n",
    "    break\n",
    "\n",
    "for img, boxes in val_iter:\n",
    "    print(img.shape, boxes.shape)\n",
    "    break\n"
   ]
  },
  {
   "cell_type": "code",
   "execution_count": 6,
   "metadata": {},
   "outputs": [
    {
     "data": {
      "text/plain": [
       "['ace',\n",
       " 'nine',\n",
       " 'six',\n",
       " 'four',\n",
       " 'eight',\n",
       " 'queen',\n",
       " 'seven',\n",
       " 'king',\n",
       " 'ten',\n",
       " 'jack',\n",
       " 'five',\n",
       " 'two',\n",
       " 'three']"
      ]
     },
     "execution_count": 6,
     "metadata": {},
     "output_type": "execute_result"
    }
   ],
   "source": [
    "# Loading dataset from Ultralytics\n",
    "config_file = \"path to a yaml file describing a dataset used in yolov7\" # https://github.com/WongKinYiu/yolov7/blob/main/data/coco.yaml\n",
    "handler = TFObjectDetectionIterator(from_config=config_file, shape=(320, 320, 3))\n",
    "handler.classes"
   ]
  },
  {
   "cell_type": "code",
   "execution_count": 8,
   "metadata": {},
   "outputs": [
    {
     "name": "stdout",
     "output_type": "stream",
     "text": [
      "Num training samples:  1328\n",
      "Num validation samples:  148\n",
      "(320, 320, 3) (1, 5)\n",
      "(320, 320, 3) (4, 5)\n"
     ]
    }
   ],
   "source": [
    "train_iter = handler.get_train_iterator().iterator()\n",
    "val_iter = handler.get_val_iterator().iterator()\n",
    "\n",
    "print(\"Num training samples: \", len(train_iter))\n",
    "print(\"Num validation samples: \", len(val_iter))\n",
    "\n",
    "for img, boxes in train_iter:\n",
    "    print(img.shape, boxes.shape)\n",
    "    break\n",
    "\n",
    "for img, boxes in val_iter:\n",
    "    print(img.shape, boxes.shape)\n",
    "    break\n"
   ]
  },
  {
   "cell_type": "code",
   "execution_count": null,
   "metadata": {},
   "outputs": [],
   "source": [
    "# Loading dataset from ModelPack 3.x\n",
    "config_file = \"path to a yaml file representing a dataset used for training ModelPack 3.x\"\n",
    "handler = TFObjectDetectionIterator(from_config=config_file)\n",
    "handler.classes"
   ]
  }
 ],
 "metadata": {
  "kernelspec": {
   "display_name": ".venv",
   "language": "python",
   "name": "python3"
  },
  "language_info": {
   "codemirror_mode": {
    "name": "ipython",
    "version": 3
   },
   "file_extension": ".py",
   "mimetype": "text/x-python",
   "name": "python",
   "nbconvert_exporter": "python",
   "pygments_lexer": "ipython3",
   "version": "3.11.0"
  }
 },
 "nbformat": 4,
 "nbformat_minor": 2
}
