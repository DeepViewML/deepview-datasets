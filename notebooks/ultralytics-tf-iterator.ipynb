{
 "cells": [
  {
   "cell_type": "code",
   "execution_count": 4,
   "metadata": {},
   "outputs": [],
   "source": [
    "\"\"\"\n",
    "This tutorial shows how to load a Darknet dataset from yoloVx x > 4.\n",
    "For that we have defined a reader that wraps Ultralitics dataset format (different structured darknet format)\n",
    "https://github.com/ultralytics/ultralytics/issues/3087\n",
    "\"\"\"\n",
    "from deepview.datasets.iterators import TFObjectDetectionIterator\n",
    "import matplotlib.pyplot as plt"
   ]
  },
  {
   "cell_type": "code",
   "execution_count": 5,
   "metadata": {},
   "outputs": [
    {
     "data": {
      "text/plain": [
       "'\\nDifferent to previous dataset readers, this class does not expect the `annotations` parameter.\\nThe `images` parameter is a txt file that contains the relative/absolute path to images from a partition.\\n\\nTo test this please clone yolov5 or yolov7, then download the coco dataset using their script and initialize the class instance.\\nIn this tutorial coco dataset was downloaded into the current directory `dataset/coco/`\\n\\ndatasets\\n└── coco\\n    ├── annotations\\n    │   └── instances_val2017.json\\n    ├── images\\n    │   ├── train2017\\n    │   └── val2017\\n    ├── labels\\n    │   ├── train2017\\n    │   └── val2017\\n    ├── LICENSE\\n    ├── README.txt\\n    ├── test-dev2017.txt\\n    ├── train2017.txt\\n    └── val2017.txt\\n\\nTo create the dataset reader instance, we just need to select tha annotations from the partition we want `train2017.txt`.\\nThe base path to the dataset is specified in parameter `path`. The reader will automatically convert all the paths as valid.\\n\\nThis is a fragment of the annotation file:\\n\\n./images/train2017/000000109622.jpg\\n./images/train2017/000000160694.jpg\\n./images/train2017/000000308590.jpg\\n\\nNotice how the paths are relaive to the folder `coco`.\\n\\nNotice that Labels are passed as a yaml file, It also could be either of:\\n- A txt file containing the names of the labels per row\\n- A yaml file like described by ModelPack dataset formats (with a filed named `classes`)\\n- A yaml file like the one used for YoloV5: https://github.com/ultralytics/yolov5/blob/master/data/coco.yaml\\n- A yaml file like the one used for YoloV7: https://github.com/WongKinYiu/yolov7/blob/main/data/coco.yaml\\n\\n'"
      ]
     },
     "execution_count": 5,
     "metadata": {},
     "output_type": "execute_result"
    }
   ],
   "source": [
    "\"\"\"\n",
    "Different to previous dataset readers, this class does not expect the `annotations` parameter.\n",
    "The `images` parameter is a txt file that contains the relative/absolute path to images from a partition.\n",
    "\n",
    "To test this please clone yolov5 or yolov7, then download the coco dataset using their script and initialize the class instance.\n",
    "In this tutorial coco dataset was downloaded into the current directory `dataset/coco/`\n",
    "\n",
    "datasets\n",
    "└── coco\n",
    "    ├── annotations\n",
    "    │   └── instances_val2017.json\n",
    "    ├── images\n",
    "    │   ├── train2017\n",
    "    │   └── val2017\n",
    "    ├── labels\n",
    "    │   ├── train2017\n",
    "    │   └── val2017\n",
    "    ├── LICENSE\n",
    "    ├── README.txt\n",
    "    ├── test-dev2017.txt\n",
    "    ├── train2017.txt\n",
    "    └── val2017.txt\n",
    "\n",
    "To create the dataset reader instance, we just need to select tha annotations from the partition we want `train2017.txt`.\n",
    "The base path to the dataset is specified in parameter `path`. The reader will automatically convert all the paths as valid.\n",
    "\n",
    "This is a fragment of the annotation file:\n",
    "\n",
    "./images/train2017/000000109622.jpg\n",
    "./images/train2017/000000160694.jpg\n",
    "./images/train2017/000000308590.jpg\n",
    "\n",
    "Notice how the paths are relaive to the folder `coco`.\n",
    "\n",
    "Notice that Labels are passed as a yaml file, It also could be either of:\n",
    "- A txt file containing the names of the labels per row\n",
    "- A yaml file like described by ModelPack dataset formats (with a filed named `classes`)\n",
    "- A yaml file like the one used for YoloV5: https://github.com/ultralytics/yolov5/blob/master/data/coco.yaml\n",
    "- A yaml file like the one used for YoloV7: https://github.com/WongKinYiu/yolov7/blob/main/data/coco.yaml\n",
    "\n",
    "\"\"\""
   ]
  },
  {
   "cell_type": "code",
   "execution_count": 6,
   "metadata": {},
   "outputs": [
    {
     "ename": "FileNotFoundError",
     "evalue": "[Errno 2] No such file or directory: 'notebooks/playingcards/dataset-v7.yaml'",
     "output_type": "error",
     "traceback": [
      "\u001b[1;31m---------------------------------------------------------------------------\u001b[0m",
      "\u001b[1;31mFileNotFoundError\u001b[0m                         Traceback (most recent call last)",
      "Cell \u001b[1;32mIn[6], line 3\u001b[0m\n\u001b[0;32m      1\u001b[0m \u001b[38;5;66;03m# Testing on Playing cards\u001b[39;00m\n\u001b[1;32m----> 3\u001b[0m handler \u001b[38;5;241m=\u001b[39m \u001b[43mTFObjectDetectionIterator\u001b[49m\u001b[43m(\u001b[49m\n\u001b[0;32m      4\u001b[0m \u001b[43m    \u001b[49m\u001b[43mfrom_config\u001b[49m\u001b[38;5;241;43m=\u001b[39;49m\u001b[38;5;124;43m\"\u001b[39;49m\u001b[38;5;124;43mnotebooks/playingcards/dataset-v7.yaml\u001b[39;49m\u001b[38;5;124;43m\"\u001b[39;49m\u001b[43m,\u001b[49m\n\u001b[0;32m      5\u001b[0m \u001b[43m    \u001b[49m\u001b[43mshape\u001b[49m\u001b[38;5;241;43m=\u001b[39;49m\u001b[43m(\u001b[49m\u001b[38;5;241;43m320\u001b[39;49m\u001b[43m,\u001b[49m\u001b[43m \u001b[49m\u001b[38;5;241;43m320\u001b[39;49m\u001b[43m,\u001b[49m\u001b[43m \u001b[49m\u001b[38;5;241;43m3\u001b[39;49m\u001b[43m)\u001b[49m\n\u001b[0;32m      6\u001b[0m \u001b[43m)\u001b[49m\n",
      "File \u001b[1;32md:\\work\\au-zone\\tasks\\validator\\deepview-datasets\\.venv\\Lib\\site-packages\\deepview\\datasets\\iterators\\detection.py:179\u001b[0m, in \u001b[0;36mTFObjectDetectionIterator.__init__\u001b[1;34m(self, from_config, shape, cache)\u001b[0m\n\u001b[0;32m    174\u001b[0m     \u001b[38;5;28;01mraise\u001b[39;00m \u001b[38;5;167;01mFileNotFoundError\u001b[39;00m(\n\u001b[0;32m    175\u001b[0m         \u001b[38;5;124mf\u001b[39m\u001b[38;5;124m\"\u001b[39m\u001b[38;5;124mConfiguration file provided at `frmo_config` parameter does not exist: \u001b[39m\u001b[38;5;132;01m{\u001b[39;00mfrom_config\u001b[38;5;132;01m}\u001b[39;00m\u001b[38;5;124m\"\u001b[39m\n\u001b[0;32m    176\u001b[0m     )\n\u001b[0;32m    178\u001b[0m \u001b[38;5;28;01mimport\u001b[39;00m \u001b[38;5;21;01myaml\u001b[39;00m\n\u001b[1;32m--> 179\u001b[0m \u001b[38;5;28;01mwith\u001b[39;00m \u001b[38;5;28;43mopen\u001b[39;49m\u001b[43m(\u001b[49m\u001b[43mfrom_config\u001b[49m\u001b[43m,\u001b[49m\u001b[43m \u001b[49m\u001b[38;5;124;43m'\u001b[39;49m\u001b[38;5;124;43mr\u001b[39;49m\u001b[38;5;124;43m'\u001b[39;49m\u001b[43m)\u001b[49m \u001b[38;5;28;01mas\u001b[39;00m fp:\n\u001b[0;32m    180\u001b[0m     \u001b[38;5;28mself\u001b[39m\u001b[38;5;241m.\u001b[39mconfig \u001b[38;5;241m=\u001b[39m yaml\u001b[38;5;241m.\u001b[39msafe_load(fp)\n\u001b[0;32m    181\u001b[0m \u001b[38;5;28mself\u001b[39m\u001b[38;5;241m.\u001b[39mconfig_absolute_path \u001b[38;5;241m=\u001b[39m os\u001b[38;5;241m.\u001b[39mpath\u001b[38;5;241m.\u001b[39mdirname(\n\u001b[0;32m    182\u001b[0m     os\u001b[38;5;241m.\u001b[39mpath\u001b[38;5;241m.\u001b[39mabspath(from_config))\n",
      "\u001b[1;31mFileNotFoundError\u001b[0m: [Errno 2] No such file or directory: 'notebooks/playingcards/dataset-v7.yaml'"
     ]
    }
   ],
   "source": [
    "# Testing on Playing cards\n",
    "\n",
    "handler = TFObjectDetectionIterator(\n",
    "    from_config=\"playingcards/dataset-v7.yaml\",\n",
    "    shape=(320, 320, 3)\n",
    ")"
   ]
  },
  {
   "cell_type": "code",
   "execution_count": null,
   "metadata": {},
   "outputs": [],
   "source": [
    "iterator = handler.get_val_iterator()\n"
   ]
  },
  {
   "cell_type": "code",
   "execution_count": null,
   "metadata": {},
   "outputs": [],
   "source": [
    "for img, boxes in iterator:\n",
    "    print(img.shape, boxes.shape)"
   ]
  }
 ],
 "metadata": {
  "kernelspec": {
   "display_name": ".venv",
   "language": "python",
   "name": "python3"
  },
  "language_info": {
   "codemirror_mode": {
    "name": "ipython",
    "version": 3
   },
   "file_extension": ".py",
   "mimetype": "text/x-python",
   "name": "python",
   "nbconvert_exporter": "python",
   "pygments_lexer": "ipython3",
   "version": "3.11.7"
  }
 },
 "nbformat": 4,
 "nbformat_minor": 2
}
