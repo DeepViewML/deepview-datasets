{
 "cells": [
  {
   "cell_type": "markdown",
   "metadata": {},
   "source": [
    "# Darknet to Polars dataset\n",
    "\n",
    "Before start datasets transformations we need to install dvc by calling \n",
    "\n",
    "```pip install dvc```"
   ]
  },
  {
   "cell_type": "code",
   "execution_count": 1,
   "metadata": {},
   "outputs": [
    {
     "name": "stdout",
     "output_type": "stream",
     "text": [
      "Collecting dvc\n",
      "  Downloading dvc-3.49.0-py3-none-any.whl.metadata (17 kB)\n",
      "Collecting attrs>=22.2.0 (from dvc)\n",
      "  Using cached attrs-23.2.0-py3-none-any.whl.metadata (9.5 kB)\n",
      "Collecting celery (from dvc)\n",
      "  Using cached celery-5.3.6-py3-none-any.whl.metadata (21 kB)\n",
      "Requirement already satisfied: colorama>=0.3.9 in d:\\work\\au-zone\\tasks\\validator\\deepview-datasets\\.venv\\lib\\site-packages (from dvc) (0.4.6)\n",
      "Collecting configobj>=5.0.6 (from dvc)\n",
      "  Downloading configobj-5.0.8-py2.py3-none-any.whl.metadata (3.4 kB)\n",
      "Collecting distro>=1.3 (from dvc)\n",
      "  Using cached distro-1.9.0-py3-none-any.whl.metadata (6.8 kB)\n",
      "Collecting dpath<3,>=2.1.0 (from dvc)\n",
      "  Using cached dpath-2.1.6-py3-none-any.whl.metadata (15 kB)\n",
      "Collecting dulwich (from dvc)\n",
      "  Using cached dulwich-0.21.7-cp311-cp311-win_amd64.whl.metadata (4.4 kB)\n",
      "Collecting dvc-data<3.16,>=3.15 (from dvc)\n",
      "  Downloading dvc_data-3.15.1-py3-none-any.whl.metadata (5.0 kB)\n",
      "Collecting dvc-http>=2.29.0 (from dvc)\n",
      "  Using cached dvc_http-2.32.0-py3-none-any.whl.metadata (1.3 kB)\n",
      "Collecting dvc-objects (from dvc)\n",
      "  Downloading dvc_objects-5.1.0-py3-none-any.whl.metadata (3.7 kB)\n",
      "Collecting dvc-render<2,>=1.0.1 (from dvc)\n",
      "  Using cached dvc_render-1.0.1-py3-none-any.whl.metadata (5.6 kB)\n",
      "Collecting dvc-studio-client<1,>=0.20 (from dvc)\n",
      "  Downloading dvc_studio_client-0.20.0-py3-none-any.whl.metadata (4.3 kB)\n",
      "Collecting dvc-task<1,>=0.3.0 (from dvc)\n",
      "  Downloading dvc_task-0.4.0-py3-none-any.whl.metadata (9.9 kB)\n",
      "Collecting flatten-dict<1,>=0.4.1 (from dvc)\n",
      "  Downloading flatten_dict-0.4.2-py2.py3-none-any.whl.metadata (9.2 kB)\n",
      "Collecting flufl.lock<8,>=5 (from dvc)\n",
      "  Downloading flufl.lock-7.1.1-py3-none-any.whl.metadata (3.3 kB)\n",
      "Collecting fsspec (from dvc)\n",
      "  Downloading fsspec-2024.3.1-py3-none-any.whl.metadata (6.8 kB)\n",
      "Collecting funcy>=1.14 (from dvc)\n",
      "  Downloading funcy-2.0-py2.py3-none-any.whl.metadata (5.9 kB)\n",
      "Collecting grandalf<1,>=0.7 (from dvc)\n",
      "  Downloading grandalf-0.8-py3-none-any.whl.metadata (1.7 kB)\n",
      "Collecting gto<2,>=1.6.0 (from dvc)\n",
      "  Downloading gto-1.7.1-py3-none-any.whl.metadata (4.2 kB)\n",
      "Collecting hydra-core>=1.1 (from dvc)\n",
      "  Downloading hydra_core-1.3.2-py3-none-any.whl.metadata (5.5 kB)\n",
      "Collecting iterative-telemetry>=0.0.7 (from dvc)\n",
      "  Downloading iterative_telemetry-0.0.8-py3-none-any.whl.metadata (4.1 kB)\n",
      "Collecting kombu (from dvc)\n",
      "  Downloading kombu-5.3.6-py3-none-any.whl.metadata (3.1 kB)\n",
      "Collecting networkx>=2.5 (from dvc)\n",
      "  Using cached networkx-3.2.1-py3-none-any.whl.metadata (5.2 kB)\n",
      "Collecting omegaconf (from dvc)\n",
      "  Downloading omegaconf-2.3.0-py3-none-any.whl.metadata (3.9 kB)\n",
      "Requirement already satisfied: packaging>=19 in d:\\work\\au-zone\\tasks\\validator\\deepview-datasets\\.venv\\lib\\site-packages (from dvc) (24.0)\n",
      "Collecting pathspec>=0.10.3 (from dvc)\n",
      "  Using cached pathspec-0.12.1-py3-none-any.whl.metadata (21 kB)\n",
      "Collecting platformdirs<4,>=3.1.1 (from dvc)\n",
      "  Using cached platformdirs-3.11.0-py3-none-any.whl.metadata (11 kB)\n",
      "Requirement already satisfied: psutil>=5.8 in d:\\work\\au-zone\\tasks\\validator\\deepview-datasets\\.venv\\lib\\site-packages (from dvc) (5.9.8)\n",
      "Collecting pydot>=1.2.4 (from dvc)\n",
      "  Using cached pydot-2.0.0-py3-none-any.whl.metadata (9.6 kB)\n",
      "Collecting pygtrie>=2.3.2 (from dvc)\n",
      "  Downloading pygtrie-2.5.0-py3-none-any.whl.metadata (7.5 kB)\n",
      "Collecting pyparsing>=2.4.7 (from dvc)\n",
      "  Using cached pyparsing-3.1.2-py3-none-any.whl.metadata (5.1 kB)\n",
      "Collecting requests>=2.22 (from dvc)\n",
      "  Using cached requests-2.31.0-py3-none-any.whl.metadata (4.6 kB)\n",
      "Collecting rich>=12 (from dvc)\n",
      "  Using cached rich-13.7.1-py3-none-any.whl.metadata (18 kB)\n",
      "Collecting ruamel.yaml>=0.17.11 (from dvc)\n",
      "  Using cached ruamel.yaml-0.18.6-py3-none-any.whl.metadata (23 kB)\n",
      "Collecting scmrepo<4,>=3 (from dvc)\n",
      "  Downloading scmrepo-3.3.1-py3-none-any.whl.metadata (4.7 kB)\n",
      "Collecting shortuuid>=0.5 (from dvc)\n",
      "  Downloading shortuuid-1.0.13-py3-none-any.whl.metadata (5.8 kB)\n",
      "Collecting shtab<2,>=1.3.4 (from dvc)\n",
      "  Downloading shtab-1.7.1-py3-none-any.whl.metadata (7.3 kB)\n",
      "Collecting tabulate>=0.8.7 (from dvc)\n",
      "  Using cached tabulate-0.9.0-py3-none-any.whl.metadata (34 kB)\n",
      "Collecting tomlkit>=0.11.1 (from dvc)\n",
      "  Downloading tomlkit-0.12.4-py3-none-any.whl.metadata (2.7 kB)\n",
      "Requirement already satisfied: tqdm<5,>=4.63.1 in d:\\work\\au-zone\\tasks\\validator\\deepview-datasets\\.venv\\lib\\site-packages (from dvc) (4.66.2)\n",
      "Collecting voluptuous>=0.11.7 (from dvc)\n",
      "  Using cached voluptuous-0.14.2-py3-none-any.whl.metadata (20 kB)\n",
      "Collecting zc.lockfile>=1.2.1 (from dvc)\n",
      "  Downloading zc.lockfile-3.0.post1-py3-none-any.whl.metadata (6.2 kB)\n",
      "Requirement already satisfied: six in d:\\work\\au-zone\\tasks\\validator\\deepview-datasets\\.venv\\lib\\site-packages (from configobj>=5.0.6->dvc) (1.16.0)\n",
      "Collecting dictdiffer>=0.8.1 (from dvc-data<3.16,>=3.15->dvc)\n",
      "  Downloading dictdiffer-0.9.0-py2.py3-none-any.whl.metadata (4.8 kB)\n",
      "Collecting diskcache>=5.2.1 (from dvc-data<3.16,>=3.15->dvc)\n",
      "  Using cached diskcache-5.6.3-py3-none-any.whl.metadata (20 kB)\n",
      "Collecting sqltrie<1,>=0.11.0 (from dvc-data<3.16,>=3.15->dvc)\n",
      "  Using cached sqltrie-0.11.0-py3-none-any.whl.metadata (3.3 kB)\n",
      "Collecting aiohttp-retry>=2.5.0 (from dvc-http>=2.29.0->dvc)\n",
      "  Downloading aiohttp_retry-2.8.3-py3-none-any.whl.metadata (8.9 kB)\n",
      "Requirement already satisfied: pywin32>=225 in d:\\work\\au-zone\\tasks\\validator\\deepview-datasets\\.venv\\lib\\site-packages (from dvc-task<1,>=0.3.0->dvc) (306)\n",
      "Collecting billiard<5.0,>=4.2.0 (from celery->dvc)\n",
      "  Using cached billiard-4.2.0-py3-none-any.whl.metadata (4.4 kB)\n",
      "Collecting click-didyoumean>=0.3.0 (from celery->dvc)\n",
      "  Downloading click_didyoumean-0.3.1-py3-none-any.whl.metadata (3.9 kB)\n",
      "Collecting click-plugins>=1.1.1 (from celery->dvc)\n",
      "  Downloading click_plugins-1.1.1-py2.py3-none-any.whl.metadata (6.4 kB)\n",
      "Collecting click-repl>=0.2.0 (from celery->dvc)\n",
      "  Using cached click_repl-0.3.0-py3-none-any.whl.metadata (3.6 kB)\n",
      "Collecting click<9.0,>=8.1.2 (from celery->dvc)\n",
      "  Using cached click-8.1.7-py3-none-any.whl.metadata (3.0 kB)\n",
      "Requirement already satisfied: python-dateutil>=2.8.2 in d:\\work\\au-zone\\tasks\\validator\\deepview-datasets\\.venv\\lib\\site-packages (from celery->dvc) (2.9.0.post0)\n",
      "Collecting tzdata>=2022.7 (from celery->dvc)\n",
      "  Using cached tzdata-2024.1-py2.py3-none-any.whl.metadata (1.4 kB)\n",
      "Collecting vine<6.0,>=5.1.0 (from celery->dvc)\n",
      "  Using cached vine-5.1.0-py3-none-any.whl.metadata (2.7 kB)\n",
      "Collecting atpublic>=2.3 (from flufl.lock<8,>=5->dvc)\n",
      "  Downloading atpublic-4.1.0-py3-none-any.whl.metadata (1.8 kB)\n",
      "Collecting typer>=0.4.1 (from gto<2,>=1.6.0->dvc)\n",
      "  Downloading typer-0.12.0-py3-none-any.whl.metadata (15 kB)\n",
      "Collecting pydantic!=2.0.0,<3,>=1.9.0 (from gto<2,>=1.6.0->dvc)\n",
      "  Downloading pydantic-2.6.4-py3-none-any.whl.metadata (85 kB)\n",
      "     ---------------------------------------- 0.0/85.1 kB ? eta -:--:--\n",
      "     ---------------------------------------- 85.1/85.1 kB 2.4 MB/s eta 0:00:00\n",
      "Collecting semver>=2.13.0 (from gto<2,>=1.6.0->dvc)\n",
      "  Using cached semver-3.0.2-py3-none-any.whl.metadata (5.0 kB)\n",
      "Collecting entrypoints (from gto<2,>=1.6.0->dvc)\n",
      "  Using cached entrypoints-0.4-py3-none-any.whl.metadata (2.6 kB)\n",
      "Collecting antlr4-python3-runtime==4.9.* (from hydra-core>=1.1->dvc)\n",
      "  Using cached antlr4_python3_runtime-4.9.3-py3-none-any.whl\n",
      "Collecting appdirs (from iterative-telemetry>=0.0.7->dvc)\n",
      "  Downloading appdirs-1.4.4-py2.py3-none-any.whl.metadata (9.0 kB)\n",
      "Collecting filelock (from iterative-telemetry>=0.0.7->dvc)\n",
      "  Downloading filelock-3.13.3-py3-none-any.whl.metadata (2.8 kB)\n",
      "Collecting amqp<6.0.0,>=5.1.1 (from kombu->dvc)\n",
      "  Using cached amqp-5.2.0-py3-none-any.whl.metadata (8.9 kB)\n",
      "Requirement already satisfied: PyYAML>=5.1.0 in d:\\work\\au-zone\\tasks\\validator\\deepview-datasets\\.venv\\lib\\site-packages (from omegaconf->dvc) (6.0.1)\n",
      "Collecting charset-normalizer<4,>=2 (from requests>=2.22->dvc)\n",
      "  Using cached charset_normalizer-3.3.2-cp311-cp311-win_amd64.whl.metadata (34 kB)\n",
      "Collecting idna<4,>=2.5 (from requests>=2.22->dvc)\n",
      "  Using cached idna-3.6-py3-none-any.whl.metadata (9.9 kB)\n",
      "Collecting urllib3<3,>=1.21.1 (from requests>=2.22->dvc)\n",
      "  Using cached urllib3-2.2.1-py3-none-any.whl.metadata (6.4 kB)\n",
      "Collecting certifi>=2017.4.17 (from requests>=2.22->dvc)\n",
      "  Using cached certifi-2024.2.2-py3-none-any.whl.metadata (2.2 kB)\n",
      "Collecting markdown-it-py>=2.2.0 (from rich>=12->dvc)\n",
      "  Using cached markdown_it_py-3.0.0-py3-none-any.whl.metadata (6.9 kB)\n",
      "Requirement already satisfied: pygments<3.0.0,>=2.13.0 in d:\\work\\au-zone\\tasks\\validator\\deepview-datasets\\.venv\\lib\\site-packages (from rich>=12->dvc) (2.17.2)\n",
      "Collecting ruamel.yaml.clib>=0.2.7 (from ruamel.yaml>=0.17.11->dvc)\n",
      "  Using cached ruamel.yaml.clib-0.2.8-cp311-cp311-win_amd64.whl.metadata (2.3 kB)\n",
      "Collecting gitpython>3 (from scmrepo<4,>=3->dvc)\n",
      "  Using cached GitPython-3.1.43-py3-none-any.whl.metadata (13 kB)\n",
      "Collecting pygit2>=1.14.0 (from scmrepo<4,>=3->dvc)\n",
      "  Downloading pygit2-1.14.1-cp311-cp311-win_amd64.whl.metadata (3.4 kB)\n",
      "Collecting asyncssh<3,>=2.13.1 (from scmrepo<4,>=3->dvc)\n",
      "  Using cached asyncssh-2.14.2-py3-none-any.whl.metadata (9.9 kB)\n",
      "Requirement already satisfied: setuptools in d:\\work\\au-zone\\tasks\\validator\\deepview-datasets\\.venv\\lib\\site-packages (from zc.lockfile>=1.2.1->dvc) (65.5.0)\n",
      "Collecting aiohttp (from aiohttp-retry>=2.5.0->dvc-http>=2.29.0->dvc)\n",
      "  Using cached aiohttp-3.9.3-cp311-cp311-win_amd64.whl.metadata (7.6 kB)\n",
      "Collecting cryptography>=39.0 (from asyncssh<3,>=2.13.1->scmrepo<4,>=3->dvc)\n",
      "  Downloading cryptography-42.0.5-cp39-abi3-win_amd64.whl.metadata (5.4 kB)\n",
      "Requirement already satisfied: typing-extensions>=3.6 in d:\\work\\au-zone\\tasks\\validator\\deepview-datasets\\.venv\\lib\\site-packages (from asyncssh<3,>=2.13.1->scmrepo<4,>=3->dvc) (4.10.0)\n",
      "Requirement already satisfied: prompt-toolkit>=3.0.36 in d:\\work\\au-zone\\tasks\\validator\\deepview-datasets\\.venv\\lib\\site-packages (from click-repl>=0.2.0->celery->dvc) (3.0.43)\n",
      "Collecting gitdb<5,>=4.0.1 (from gitpython>3->scmrepo<4,>=3->dvc)\n",
      "  Using cached gitdb-4.0.11-py3-none-any.whl.metadata (1.2 kB)\n",
      "Collecting mdurl~=0.1 (from markdown-it-py>=2.2.0->rich>=12->dvc)\n",
      "  Using cached mdurl-0.1.2-py3-none-any.whl.metadata (1.6 kB)\n",
      "Collecting annotated-types>=0.4.0 (from pydantic!=2.0.0,<3,>=1.9.0->gto<2,>=1.6.0->dvc)\n",
      "  Using cached annotated_types-0.6.0-py3-none-any.whl.metadata (12 kB)\n",
      "Collecting pydantic-core==2.16.3 (from pydantic!=2.0.0,<3,>=1.9.0->gto<2,>=1.6.0->dvc)\n",
      "  Downloading pydantic_core-2.16.3-cp311-none-win_amd64.whl.metadata (6.6 kB)\n",
      "Collecting cffi>=1.16.0 (from pygit2>=1.14.0->scmrepo<4,>=3->dvc)\n",
      "  Using cached cffi-1.16.0-cp311-cp311-win_amd64.whl.metadata (1.5 kB)\n",
      "Collecting orjson (from sqltrie<1,>=0.11.0->dvc-data<3.16,>=3.15->dvc)\n",
      "  Downloading orjson-3.10.0-cp311-none-win_amd64.whl.metadata (50 kB)\n",
      "     ---------------------------------------- 0.0/50.7 kB ? eta -:--:--\n",
      "     ---------------------------------------- 50.7/50.7 kB ? eta 0:00:00\n",
      "Collecting typer-slim==0.12.0 (from typer-slim[standard]==0.12.0->typer>=0.4.1->gto<2,>=1.6.0->dvc)\n",
      "  Downloading typer_slim-0.12.0-py3-none-any.whl.metadata (15 kB)\n",
      "Collecting typer-cli==0.12.0 (from typer>=0.4.1->gto<2,>=1.6.0->dvc)\n",
      "  Downloading typer_cli-0.12.0-py3-none-any.whl.metadata (3.5 kB)\n",
      "Collecting shellingham>=1.3.0 (from typer-slim[standard]==0.12.0->typer>=0.4.1->gto<2,>=1.6.0->dvc)\n",
      "  Downloading shellingham-1.5.4-py2.py3-none-any.whl.metadata (3.5 kB)\n",
      "Collecting aiosignal>=1.1.2 (from aiohttp->aiohttp-retry>=2.5.0->dvc-http>=2.29.0->dvc)\n",
      "  Downloading aiosignal-1.3.1-py3-none-any.whl.metadata (4.0 kB)\n",
      "Collecting frozenlist>=1.1.1 (from aiohttp->aiohttp-retry>=2.5.0->dvc-http>=2.29.0->dvc)\n",
      "  Using cached frozenlist-1.4.1-cp311-cp311-win_amd64.whl.metadata (12 kB)\n",
      "Collecting multidict<7.0,>=4.5 (from aiohttp->aiohttp-retry>=2.5.0->dvc-http>=2.29.0->dvc)\n",
      "  Using cached multidict-6.0.5-cp311-cp311-win_amd64.whl.metadata (4.3 kB)\n",
      "Collecting yarl<2.0,>=1.0 (from aiohttp->aiohttp-retry>=2.5.0->dvc-http>=2.29.0->dvc)\n",
      "  Using cached yarl-1.9.4-cp311-cp311-win_amd64.whl.metadata (32 kB)\n",
      "Collecting pycparser (from cffi>=1.16.0->pygit2>=1.14.0->scmrepo<4,>=3->dvc)\n",
      "  Using cached pycparser-2.22-py3-none-any.whl.metadata (943 bytes)\n",
      "Collecting smmap<6,>=3.0.1 (from gitdb<5,>=4.0.1->gitpython>3->scmrepo<4,>=3->dvc)\n",
      "  Using cached smmap-5.0.1-py3-none-any.whl.metadata (4.3 kB)\n",
      "Requirement already satisfied: wcwidth in d:\\work\\au-zone\\tasks\\validator\\deepview-datasets\\.venv\\lib\\site-packages (from prompt-toolkit>=3.0.36->click-repl>=0.2.0->celery->dvc) (0.2.13)\n",
      "Downloading dvc-3.49.0-py3-none-any.whl (450 kB)\n",
      "   ---------------------------------------- 0.0/450.8 kB ? eta -:--:--\n",
      "   -------------------- ------------------- 235.5/450.8 kB 4.8 MB/s eta 0:00:01\n",
      "   ---------------------------------------- 450.8/450.8 kB 4.7 MB/s eta 0:00:00\n",
      "Using cached attrs-23.2.0-py3-none-any.whl (60 kB)\n",
      "Using cached configobj-5.0.8-py2.py3-none-any.whl (36 kB)\n",
      "Using cached distro-1.9.0-py3-none-any.whl (20 kB)\n",
      "Using cached dpath-2.1.6-py3-none-any.whl (17 kB)\n",
      "Downloading dvc_data-3.15.1-py3-none-any.whl (71 kB)\n",
      "   ---------------------------------------- 0.0/71.6 kB ? eta -:--:--\n",
      "   ---------------------------------------- 71.6/71.6 kB 3.8 MB/s eta 0:00:00\n",
      "Using cached dvc_http-2.32.0-py3-none-any.whl (12 kB)\n",
      "Downloading dvc_objects-5.1.0-py3-none-any.whl (33 kB)\n",
      "Using cached dvc_render-1.0.1-py3-none-any.whl (22 kB)\n",
      "Downloading dvc_studio_client-0.20.0-py3-none-any.whl (16 kB)\n",
      "Downloading dvc_task-0.4.0-py3-none-any.whl (21 kB)\n",
      "Using cached celery-5.3.6-py3-none-any.whl (422 kB)\n",
      "Using cached flatten_dict-0.4.2-py2.py3-none-any.whl (9.7 kB)\n",
      "Using cached flufl.lock-7.1.1-py3-none-any.whl (11 kB)\n",
      "Downloading fsspec-2024.3.1-py3-none-any.whl (171 kB)\n",
      "   ---------------------------------------- 0.0/172.0 kB ? eta -:--:--\n",
      "   ---------------------------------------- 172.0/172.0 kB 5.2 MB/s eta 0:00:00\n",
      "Using cached funcy-2.0-py2.py3-none-any.whl (30 kB)\n",
      "Using cached grandalf-0.8-py3-none-any.whl (41 kB)\n",
      "Downloading gto-1.7.1-py3-none-any.whl (46 kB)\n",
      "   ---------------------------------------- 0.0/46.6 kB ? eta -:--:--\n",
      "   ---------------------------------------- 46.6/46.6 kB ? eta 0:00:00\n",
      "Using cached hydra_core-1.3.2-py3-none-any.whl (154 kB)\n",
      "Using cached iterative_telemetry-0.0.8-py3-none-any.whl (10 kB)\n",
      "Downloading kombu-5.3.6-py3-none-any.whl (200 kB)\n",
      "   ---------------------------------------- 0.0/200.2 kB ? eta -:--:--\n",
      "   --------------------------------------- 200.2/200.2 kB 11.9 MB/s eta 0:00:00\n",
      "Using cached networkx-3.2.1-py3-none-any.whl (1.6 MB)\n",
      "Using cached omegaconf-2.3.0-py3-none-any.whl (79 kB)\n",
      "Using cached pathspec-0.12.1-py3-none-any.whl (31 kB)\n",
      "Using cached platformdirs-3.11.0-py3-none-any.whl (17 kB)\n",
      "Using cached pydot-2.0.0-py3-none-any.whl (22 kB)\n",
      "Using cached pygtrie-2.5.0-py3-none-any.whl (25 kB)\n",
      "Using cached pyparsing-3.1.2-py3-none-any.whl (103 kB)\n",
      "Using cached requests-2.31.0-py3-none-any.whl (62 kB)\n",
      "Using cached rich-13.7.1-py3-none-any.whl (240 kB)\n",
      "Using cached ruamel.yaml-0.18.6-py3-none-any.whl (117 kB)\n",
      "Downloading scmrepo-3.3.1-py3-none-any.whl (73 kB)\n",
      "   ---------------------------------------- 0.0/73.3 kB ? eta -:--:--\n",
      "   ---------------------------------------- 73.3/73.3 kB 4.2 MB/s eta 0:00:00\n",
      "Using cached dulwich-0.21.7-cp311-cp311-win_amd64.whl (487 kB)\n",
      "Downloading shortuuid-1.0.13-py3-none-any.whl (10 kB)\n",
      "Downloading shtab-1.7.1-py3-none-any.whl (14 kB)\n",
      "Using cached tabulate-0.9.0-py3-none-any.whl (35 kB)\n",
      "Downloading tomlkit-0.12.4-py3-none-any.whl (37 kB)\n",
      "Using cached voluptuous-0.14.2-py3-none-any.whl (31 kB)\n",
      "Using cached zc.lockfile-3.0.post1-py3-none-any.whl (9.8 kB)\n",
      "Using cached aiohttp_retry-2.8.3-py3-none-any.whl (9.8 kB)\n",
      "Using cached amqp-5.2.0-py3-none-any.whl (50 kB)\n",
      "Using cached asyncssh-2.14.2-py3-none-any.whl (352 kB)\n",
      "Downloading atpublic-4.1.0-py3-none-any.whl (5.0 kB)\n",
      "Using cached billiard-4.2.0-py3-none-any.whl (86 kB)\n",
      "Using cached certifi-2024.2.2-py3-none-any.whl (163 kB)\n",
      "Using cached charset_normalizer-3.3.2-cp311-cp311-win_amd64.whl (99 kB)\n",
      "Using cached click-8.1.7-py3-none-any.whl (97 kB)\n",
      "Downloading click_didyoumean-0.3.1-py3-none-any.whl (3.6 kB)\n",
      "Using cached click_plugins-1.1.1-py2.py3-none-any.whl (7.5 kB)\n",
      "Using cached click_repl-0.3.0-py3-none-any.whl (10 kB)\n",
      "Using cached dictdiffer-0.9.0-py2.py3-none-any.whl (16 kB)\n",
      "Using cached diskcache-5.6.3-py3-none-any.whl (45 kB)\n",
      "Using cached GitPython-3.1.43-py3-none-any.whl (207 kB)\n",
      "Using cached idna-3.6-py3-none-any.whl (61 kB)\n",
      "Using cached markdown_it_py-3.0.0-py3-none-any.whl (87 kB)\n",
      "Downloading pydantic-2.6.4-py3-none-any.whl (394 kB)\n",
      "   ---------------------------------------- 0.0/394.9 kB ? eta -:--:--\n",
      "   --------------------------------------  389.1/394.9 kB 11.8 MB/s eta 0:00:01\n",
      "   ---------------------------------------- 394.9/394.9 kB 8.2 MB/s eta 0:00:00\n",
      "Downloading pydantic_core-2.16.3-cp311-none-win_amd64.whl (1.9 MB)\n",
      "   ---------------------------------------- 0.0/1.9 MB ? eta -:--:--\n",
      "   ------------ --------------------------- 0.6/1.9 MB 18.2 MB/s eta 0:00:01\n",
      "   --------------- ------------------------ 0.7/1.9 MB 14.8 MB/s eta 0:00:01\n",
      "   --------------------------- ------------ 1.3/1.9 MB 10.1 MB/s eta 0:00:01\n",
      "   ---------------------------------- ----- 1.6/1.9 MB 9.5 MB/s eta 0:00:01\n",
      "   ---------------------------------------- 1.9/1.9 MB 9.2 MB/s eta 0:00:00\n",
      "Downloading pygit2-1.14.1-cp311-cp311-win_amd64.whl (1.2 MB)\n",
      "   ---------------------------------------- 0.0/1.2 MB ? eta -:--:--\n",
      "   ----------- ---------------------------- 0.4/1.2 MB 11.2 MB/s eta 0:00:01\n",
      "   ------------------------ --------------- 0.8/1.2 MB 9.7 MB/s eta 0:00:01\n",
      "   ----------------------------------- ---- 1.1/1.2 MB 8.8 MB/s eta 0:00:01\n",
      "   ---------------------------------------- 1.2/1.2 MB 8.8 MB/s eta 0:00:00\n",
      "Using cached ruamel.yaml.clib-0.2.8-cp311-cp311-win_amd64.whl (118 kB)\n",
      "Using cached semver-3.0.2-py3-none-any.whl (17 kB)\n",
      "Using cached sqltrie-0.11.0-py3-none-any.whl (17 kB)\n",
      "Downloading typer-0.12.0-py3-none-any.whl (5.6 kB)\n",
      "Downloading typer_cli-0.12.0-py3-none-any.whl (3.0 kB)\n",
      "Downloading typer_slim-0.12.0-py3-none-any.whl (46 kB)\n",
      "   ---------------------------------------- 0.0/46.8 kB ? eta -:--:--\n",
      "   ---------------------------------------- 46.8/46.8 kB ? eta 0:00:00\n",
      "Using cached tzdata-2024.1-py2.py3-none-any.whl (345 kB)\n",
      "Using cached urllib3-2.2.1-py3-none-any.whl (121 kB)\n",
      "Using cached vine-5.1.0-py3-none-any.whl (9.6 kB)\n",
      "Using cached appdirs-1.4.4-py2.py3-none-any.whl (9.6 kB)\n",
      "Using cached entrypoints-0.4-py3-none-any.whl (5.3 kB)\n",
      "Downloading filelock-3.13.3-py3-none-any.whl (11 kB)\n",
      "Using cached aiohttp-3.9.3-cp311-cp311-win_amd64.whl (365 kB)\n",
      "Using cached annotated_types-0.6.0-py3-none-any.whl (12 kB)\n",
      "Using cached cffi-1.16.0-cp311-cp311-win_amd64.whl (181 kB)\n",
      "Downloading cryptography-42.0.5-cp39-abi3-win_amd64.whl (2.9 MB)\n",
      "   ---------------------------------------- 0.0/2.9 MB ? eta -:--:--\n",
      "   ----- ---------------------------------- 0.4/2.9 MB 25.0 MB/s eta 0:00:01\n",
      "   ------------ --------------------------- 0.9/2.9 MB 11.0 MB/s eta 0:00:01\n",
      "   -------------------- ------------------- 1.5/2.9 MB 11.6 MB/s eta 0:00:01\n",
      "   ------------------------ --------------- 1.8/2.9 MB 10.4 MB/s eta 0:00:01\n",
      "   ----------------------------- ---------- 2.1/2.9 MB 9.7 MB/s eta 0:00:01\n",
      "   -------------------------------- ------- 2.3/2.9 MB 9.3 MB/s eta 0:00:01\n",
      "   ---------------------------------------  2.9/2.9 MB 9.2 MB/s eta 0:00:01\n",
      "   ---------------------------------------- 2.9/2.9 MB 8.8 MB/s eta 0:00:00\n",
      "Using cached gitdb-4.0.11-py3-none-any.whl (62 kB)\n",
      "Using cached mdurl-0.1.2-py3-none-any.whl (10.0 kB)\n",
      "Downloading orjson-3.10.0-cp311-none-win_amd64.whl (139 kB)\n",
      "   ---------------------------------------- 0.0/139.2 kB ? eta -:--:--\n",
      "   ---------------------------------------- 139.2/139.2 kB 8.1 MB/s eta 0:00:00\n",
      "Using cached aiosignal-1.3.1-py3-none-any.whl (7.6 kB)\n",
      "Using cached frozenlist-1.4.1-cp311-cp311-win_amd64.whl (50 kB)\n",
      "Using cached multidict-6.0.5-cp311-cp311-win_amd64.whl (28 kB)\n",
      "Downloading shellingham-1.5.4-py2.py3-none-any.whl (9.8 kB)\n",
      "Using cached smmap-5.0.1-py3-none-any.whl (24 kB)\n",
      "Using cached yarl-1.9.4-cp311-cp311-win_amd64.whl (76 kB)\n",
      "Using cached pycparser-2.22-py3-none-any.whl (117 kB)\n",
      "Installing collected packages: pygtrie, funcy, dictdiffer, appdirs, antlr4-python3-runtime, zc.lockfile, voluptuous, vine, urllib3, tzdata, tomlkit, tabulate, smmap, shtab, shortuuid, shellingham, semver, ruamel.yaml.clib, pyparsing, pydantic-core, pycparser, platformdirs, pathspec, orjson, omegaconf, networkx, multidict, mdurl, idna, fsspec, frozenlist, flatten-dict, filelock, entrypoints, dvc-render, dpath, distro, diskcache, configobj, click, charset-normalizer, certifi, billiard, attrs, atpublic, annotated-types, yarl, typer-slim, sqltrie, ruamel.yaml, requests, pydot, pydantic, markdown-it-py, hydra-core, grandalf, gitdb, flufl.lock, dvc-objects, dulwich, click-repl, click-plugins, click-didyoumean, cffi, amqp, aiosignal, rich, pygit2, kombu, iterative-telemetry, gitpython, dvc-studio-client, dvc-data, cryptography, aiohttp, celery, asyncssh, aiohttp-retry, typer-cli, scmrepo, dvc-task, dvc-http, typer, gto, dvc\n",
      "  Attempting uninstall: platformdirs\n",
      "    Found existing installation: platformdirs 4.2.0\n",
      "    Uninstalling platformdirs-4.2.0:\n",
      "      Successfully uninstalled platformdirs-4.2.0\n",
      "Successfully installed aiohttp-3.9.3 aiohttp-retry-2.8.3 aiosignal-1.3.1 amqp-5.2.0 annotated-types-0.6.0 antlr4-python3-runtime-4.9.3 appdirs-1.4.4 asyncssh-2.14.2 atpublic-4.1.0 attrs-23.2.0 billiard-4.2.0 celery-5.3.6 certifi-2024.2.2 cffi-1.16.0 charset-normalizer-3.3.2 click-8.1.7 click-didyoumean-0.3.1 click-plugins-1.1.1 click-repl-0.3.0 configobj-5.0.8 cryptography-42.0.5 dictdiffer-0.9.0 diskcache-5.6.3 distro-1.9.0 dpath-2.1.6 dulwich-0.21.7 dvc-3.49.0 dvc-data-3.15.1 dvc-http-2.32.0 dvc-objects-5.1.0 dvc-render-1.0.1 dvc-studio-client-0.20.0 dvc-task-0.4.0 entrypoints-0.4 filelock-3.13.3 flatten-dict-0.4.2 flufl.lock-7.1.1 frozenlist-1.4.1 fsspec-2024.3.1 funcy-2.0 gitdb-4.0.11 gitpython-3.1.43 grandalf-0.8 gto-1.7.1 hydra-core-1.3.2 idna-3.6 iterative-telemetry-0.0.8 kombu-5.3.6 markdown-it-py-3.0.0 mdurl-0.1.2 multidict-6.0.5 networkx-3.2.1 omegaconf-2.3.0 orjson-3.10.0 pathspec-0.12.1 platformdirs-3.11.0 pycparser-2.22 pydantic-2.6.4 pydantic-core-2.16.3 pydot-2.0.0 pygit2-1.14.1 pygtrie-2.5.0 pyparsing-3.1.2 requests-2.31.0 rich-13.7.1 ruamel.yaml-0.18.6 ruamel.yaml.clib-0.2.8 scmrepo-3.3.1 semver-3.0.2 shellingham-1.5.4 shortuuid-1.0.13 shtab-1.7.1 smmap-5.0.1 sqltrie-0.11.0 tabulate-0.9.0 tomlkit-0.12.4 typer-0.12.0 typer-cli-0.12.0 typer-slim-0.12.0 tzdata-2024.1 urllib3-2.2.1 vine-5.1.0 voluptuous-0.14.2 yarl-1.9.4 zc.lockfile-3.0.post1\n"
     ]
    }
   ],
   "source": [
    "! pip install dvc"
   ]
  },
  {
   "cell_type": "markdown",
   "metadata": {},
   "source": [
    "## Download Dataset\n",
    "\n",
    "To download the dataset we are going to clone playingcards dataset from github.\n",
    "This dataset is stored in darknet format and has two different partitions, `train` and `validate`"
   ]
  },
  {
   "cell_type": "code",
   "execution_count": 2,
   "metadata": {},
   "outputs": [
    {
     "name": "stderr",
     "output_type": "stream",
     "text": [
      "Cloning into 'playingcards'...\n"
     ]
    }
   ],
   "source": [
    "! git clone https://github.com/DeepViewML/playingcards.git "
   ]
  },
  {
   "cell_type": "markdown",
   "metadata": {},
   "source": [
    "Once the repository is in our PC we need to invoke dvc to download dataset files from S3 bucket.\n",
    "It could take few minutes based on you internet connection"
   ]
  },
  {
   "cell_type": "code",
   "execution_count": 3,
   "metadata": {},
   "outputs": [
    {
     "name": "stdout",
     "output_type": "stream",
     "text": [
      "A       dataset\\\n",
      "A       out\\static\\\n",
      "A       out\\best.h5\n",
      "A       out\\last.h5\n",
      "A       out\\metrics.json\n",
      "A       out\\report.md\n",
      "A       out\\labels.txt\n",
      "A       out\\config.json\n",
      "8 files added and 2952 files fetched\n"
     ]
    }
   ],
   "source": [
    "! cd playingcards && dvc pull"
   ]
  },
  {
   "cell_type": "code",
   "execution_count": 4,
   "metadata": {},
   "outputs": [
    {
     "name": "stdout",
     "output_type": "stream",
     "text": [
      "\"Training Instances:\"\n"
     ]
    },
    {
     "name": "stderr",
     "output_type": "stream",
     "text": [
      "wc: unknown option -- `\n",
      "Try 'wc --help' for more information.\n",
      "wc: unknown option -- `\n",
      "Try 'wc --help' for more information.\n"
     ]
    },
    {
     "name": "stdout",
     "output_type": "stream",
     "text": [
      "\"Validation Instances:\"\n"
     ]
    },
    {
     "name": "stderr",
     "output_type": "stream",
     "text": [
      "wc: unknown option -- `\n",
      "Try 'wc --help' for more information.\n",
      "wc: unknown option -- `\n",
      "Try 'wc --help' for more information.\n"
     ]
    },
    {
     "name": "stdout",
     "output_type": "stream",
     "text": [
      "\"Quantization Samples:\"\n"
     ]
    },
    {
     "name": "stderr",
     "output_type": "stream",
     "text": [
      "wc: unknown option -- `\n",
      "Try 'wc --help' for more information.\n"
     ]
    }
   ],
   "source": [
    "# Count number of training images\n",
    "\n",
    "! echo \"Training Instances:\"\n",
    "\n",
    "\n",
    "! echo \"   - images:\" `ls -l playingcards/dataset/images/train | wc -l`\n",
    "! echo \"   - annotations:\" `ls -l playingcards/dataset/labels/train | wc -l`\n",
    "\n",
    "! echo \"Validation Instances:\"\n",
    "\n",
    "! echo \"   - images:\" `ls -l playingcards/dataset/images/validate | wc -l`\n",
    "! echo \"   - annotations:\" `ls -l playingcards/dataset/labels/validate | wc -l`\n",
    "\n",
    "! echo \"Quantization Samples:\"\n",
    "\n",
    "! echo \"   - images:\" `ls -l playingcards/dataset/images/quant | wc -l`\n"
   ]
  },
  {
   "cell_type": "code",
   "execution_count": 4,
   "metadata": {},
   "outputs": [
    {
     "name": "stdout",
     "output_type": "stream",
     "text": [
      "Processing d:\\work\\au-zone\\tasks\\validator\\deepview-datasets\n",
      "  Installing build dependencies: started\n",
      "  Installing build dependencies: finished with status 'done'\n",
      "  Getting requirements to build wheel: started\n",
      "  Getting requirements to build wheel: finished with status 'done'\n",
      "  Preparing metadata (pyproject.toml): started\n",
      "  Preparing metadata (pyproject.toml): finished with status 'done'\n",
      "Requirement already satisfied: pillow in d:\\work\\au-zone\\tasks\\validator\\deepview-datasets\\.venv\\lib\\site-packages (from deepview-datasets==0.3.1) (10.2.0)\n",
      "Requirement already satisfied: polars in d:\\work\\au-zone\\tasks\\validator\\deepview-datasets\\.venv\\lib\\site-packages (from deepview-datasets==0.3.1) (0.20.18)\n",
      "Requirement already satisfied: tqdm in d:\\work\\au-zone\\tasks\\validator\\deepview-datasets\\.venv\\lib\\site-packages (from deepview-datasets==0.3.1) (4.66.2)\n",
      "Requirement already satisfied: colorama in d:\\work\\au-zone\\tasks\\validator\\deepview-datasets\\.venv\\lib\\site-packages (from tqdm->deepview-datasets==0.3.1) (0.4.6)\n",
      "Building wheels for collected packages: deepview-datasets\n",
      "  Building wheel for deepview-datasets (pyproject.toml): started\n",
      "  Building wheel for deepview-datasets (pyproject.toml): finished with status 'done'\n",
      "  Created wheel for deepview-datasets: filename=deepview_datasets-0.3.1-py3-none-any.whl size=43901 sha256=f94e1640071f119ada2e1777c1254d4f0c7608665864e5e858942684babf968b\n",
      "  Stored in directory: c:\\users\\reinier\\appdata\\local\\pip\\cache\\wheels\\64\\51\\d7\\7a57945c491b475891babec2eace551b4b50c13ba6590263c3\n",
      "Successfully built deepview-datasets\n",
      "Installing collected packages: deepview-datasets\n",
      "  Attempting uninstall: deepview-datasets\n",
      "    Found existing installation: deepview-datasets 0.3.1\n",
      "    Not uninstalling deepview-datasets at d:\\work\\au-zone\\tasks\\validator\\deepview-datasets, outside environment d:\\work\\au-zone\\tasks\\validator\\deepview-datasets\\.venv\n",
      "    Can't uninstall 'deepview-datasets'. No files were found to uninstall.\n",
      "Successfully installed deepview-datasets-0.3.1\n"
     ]
    }
   ],
   "source": [
    "! pip install deepview-datasets"
   ]
  },
  {
   "cell_type": "code",
   "execution_count": 1,
   "metadata": {},
   "outputs": [],
   "source": [
    "import yaml\n",
    "from deepview.datasets.readers import DarknetDetectionReader\n",
    "from deepview.datasets.writers.polars import PolarsDetectionWriter"
   ]
  },
  {
   "cell_type": "code",
   "execution_count": 2,
   "metadata": {},
   "outputs": [
    {
     "name": "stderr",
     "output_type": "stream",
     "text": [
      "\t [INFO] Reading:   0%|\u001b[32m               \u001b[0m| 0/1328 [00:00<?, ?it/s]\u001b[32m\u001b[0m"
     ]
    },
    {
     "name": "stderr",
     "output_type": "stream",
     "text": [
      "\t [INFO] Reading: 100%|\u001b[32m███████████████\u001b[0m| 1328/1328 [00:00<00:00, 46597.14it/s]\u001b[32m\u001b[0m\n",
      "\t [INFO] Reading: 100%|\u001b[32m███████████████\u001b[0m| 148/148 [00:00<00:00, 49348.68it/s]\u001b[32m\u001b[0m\n"
     ]
    }
   ],
   "source": [
    "# Reading Classes from dataset\n",
    "\n",
    "\n",
    "with open(\"playingcards/dataset.yaml\", 'r') as fp:\n",
    "    true_order_classes = yaml.safe_load(fp).get('classes')\n",
    "\n",
    "# Defines the reader class that loads dataset images and annotations from \n",
    "# disk and return the iterator for safe reading\n",
    "\n",
    "train_reader = DarknetDetectionReader(\n",
    "    images=\"playingcards/dataset/images/train\",\n",
    "    annotations=\"playingcards/dataset/labels/train\",\n",
    "    classes=true_order_classes\n",
    ")\n",
    "\n",
    "val_reader = DarknetDetectionReader(\n",
    "    images=\"playingcards/dataset/images/validate\",\n",
    "    annotations=\"playingcards/dataset/labels/validate\",\n",
    "    classes=true_order_classes\n",
    ")"
   ]
  },
  {
   "cell_type": "code",
   "execution_count": 3,
   "metadata": {},
   "outputs": [
    {
     "name": "stdout",
     "output_type": "stream",
     "text": [
      "\t - [WARNING] Output directory is not empty. Exporter will override existing content: playingcards-polars/train\n",
      "\t - [WARNING] Output directory is not empty. Exporter will override existing content: playingcards-polars/validate\n"
     ]
    },
    {
     "name": "stderr",
     "output_type": "stream",
     "text": [
      "\t [INFO] Writing: 100%|\u001b[32m███████████████\u001b[0m| 1328/1328 [00:01<00:00, 704.88it/s]\u001b[32m\u001b[0m\n",
      "\t [INFO] Writing: 100%|\u001b[32m███████████████\u001b[0m| 148/148 [00:00<00:00, 860.62it/s]\u001b[32m\u001b[0m\n"
     ]
    }
   ],
   "source": [
    "# Defines the writer instance that loads the Darknet reader object and writes the instances\n",
    "# to hard drive in arrow format\n",
    "\n",
    "train_writer = PolarsDetectionWriter(\n",
    "    reader=train_reader,\n",
    "    output=\"playingcards-polars/train\",\n",
    "    override=True,\n",
    "    max_file_size=2.0 # 2GB file chunk\n",
    ")\n",
    "\n",
    "val_writer = PolarsDetectionWriter(\n",
    "    reader=val_reader,\n",
    "    output=\"playingcards-polars/validate\",\n",
    "    override=True,\n",
    "    max_file_size=2.0 # 2GB file chunk\n",
    ")\n",
    "\n",
    "train_writer.export()\n",
    "val_writer.export()\n"
   ]
  },
  {
   "cell_type": "code",
   "execution_count": null,
   "metadata": {},
   "outputs": [],
   "source": [
    "# dataset is going to be saved into playingcards-polars folder\n",
    "\n",
    "! tree -a playingcards-polars/train\n",
    "! tree -a playingcards-polars/validate"
   ]
  },
  {
   "cell_type": "markdown",
   "metadata": {},
   "source": [
    "## Reading Dataset\n",
    "\n",
    "To read the dataset we need to use the polars reader from example below."
   ]
  },
  {
   "cell_type": "code",
   "execution_count": null,
   "metadata": {},
   "outputs": [],
   "source": [
    "from deepview.datasets.readers import PolarsDetectionReader"
   ]
  },
  {
   "cell_type": "code",
   "execution_count": null,
   "metadata": {},
   "outputs": [],
   "source": [
    "with open(\"playingcards/dataset.yaml\", 'r') as fp:\n",
    "    true_order_classes = yaml.safe_load(fp).get('classes')\n",
    "    \n",
    "plreader = PolarsDetectionReader(\n",
    "    inputs=\"playingcards-polars/train/images_*.arrow\",\n",
    "    annotations = \"playingcards-polars/train/boxes_*.arrow\",\n",
    "    classes=['nine', 'ace'] # it could be any order of the classes within true_order_class list. Also could be a subset\n",
    ")\n",
    "plreader.classes"
   ]
  },
  {
   "cell_type": "code",
   "execution_count": null,
   "metadata": {},
   "outputs": [],
   "source": [
    "# visualize samples.\n",
    "# To visualize samples make sure opencv-python and matplotlib are installed.\n",
    "import matplotlib.pyplot as plt\n",
    "import numpy as np\n",
    "import cv2\n",
    "import polars as pl\n",
    "\n",
    "colors = np.array([\n",
    "    [180, 0, 0],\n",
    "    [0, 166, 76],\n",
    "    [178, 179, 0],\n",
    "    [2, 1, 181],\n",
    "    [127, 96, 166],\n",
    "    [3, 152, 133],\n",
    "    [121, 121, 121],\n",
    "    [76, 0, 0],\n",
    "    [240, 0, 0],\n",
    "    [107, 123, 61],\n",
    "    [245, 185, 0],\n",
    "    [94, 78, 127],\n",
    "    [202, 2, 202],\n",
    "    [105, 153, 199],\n",
    "    [252, 155, 209],\n",
    "    [53, 76, 32],\n",
    "    [146, 76, 17],\n",
    "    [0, 219, 99],\n",
    "    [142, 206, 70],\n",
    "    [2, 71, 128]    \n",
    "], np.uint8)"
   ]
  },
  {
   "cell_type": "code",
   "execution_count": null,
   "metadata": {},
   "outputs": [],
   "source": [
    "image, boxes = next(plreader)\n",
    "H, W, _ = image.shape\n",
    "image = image.copy()\n",
    "\n",
    "for xc, yc, w, h, l in boxes:\n",
    "    x1 = int((xc - w * 0.5) * W)\n",
    "    x2 = int((xc + w * 0.5) * W)\n",
    "    \n",
    "    y1 = int((yc - h *0.5) * H)\n",
    "    y2 = int((yc + h *0.5) * H)\n",
    "    color = colors[int(l)].tolist()\n",
    "        \n",
    "    cv2.rectangle(image, (x1, y1), (x2, y2), color, 5)\n",
    "\n",
    "plt.imshow(image)\n"
   ]
  }
 ],
 "metadata": {
  "kernelspec": {
   "display_name": ".venv",
   "language": "python",
   "name": "python3"
  },
  "language_info": {
   "codemirror_mode": {
    "name": "ipython",
    "version": 3
   },
   "file_extension": ".py",
   "mimetype": "text/x-python",
   "name": "python",
   "nbconvert_exporter": "python",
   "pygments_lexer": "ipython3",
   "version": "3.11.7"
  }
 },
 "nbformat": 4,
 "nbformat_minor": 2
}
